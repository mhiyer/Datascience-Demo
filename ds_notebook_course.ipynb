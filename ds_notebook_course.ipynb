{
  "nbformat": 4,
  "nbformat_minor": 0,
  "metadata": {
    "colab": {
      "provenance": [],
      "authorship_tag": "ABX9TyPUjPxXI6Li7XY2NM58Rsyy",
      "include_colab_link": true
    },
    "kernelspec": {
      "name": "python3",
      "display_name": "Python 3"
    },
    "language_info": {
      "name": "python"
    }
  },
  "cells": [
    {
      "cell_type": "markdown",
      "metadata": {
        "id": "view-in-github",
        "colab_type": "text"
      },
      "source": [
        "<a href=\"https://colab.research.google.com/github/mhiyer/Datascience-Demo/blob/main/ds_notebook_course.ipynb\" target=\"_parent\"><img src=\"https://colab.research.google.com/assets/colab-badge.svg\" alt=\"Open In Colab\"/></a>"
      ]
    },
    {
      "cell_type": "markdown",
      "source": [
        "**Ingest**"
      ],
      "metadata": {
        "id": "wCR_TAHcoEdp"
      }
    },
    {
      "cell_type": "code",
      "source": [],
      "metadata": {
        "id": "cHld92VMoEEs"
      },
      "execution_count": null,
      "outputs": []
    },
    {
      "cell_type": "markdown",
      "source": [
        "**EDA**"
      ],
      "metadata": {
        "id": "PwhFWg50oHt_"
      }
    },
    {
      "cell_type": "code",
      "source": [],
      "metadata": {
        "id": "vlxJm_DXoKIC"
      },
      "execution_count": null,
      "outputs": []
    },
    {
      "cell_type": "markdown",
      "source": [
        "**Modelling**"
      ],
      "metadata": {
        "id": "hgIm-JumoKrm"
      }
    },
    {
      "cell_type": "code",
      "source": [],
      "metadata": {
        "id": "Llig-6YWoNUB"
      },
      "execution_count": null,
      "outputs": []
    },
    {
      "cell_type": "markdown",
      "source": [
        "Conclusion"
      ],
      "metadata": {
        "id": "EeoNd7F5oNix"
      }
    },
    {
      "cell_type": "code",
      "source": [],
      "metadata": {
        "id": "CzbBa5oEoPZU"
      },
      "execution_count": null,
      "outputs": []
    }
  ]
}